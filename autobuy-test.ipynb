{
  "nbformat": 4,
  "nbformat_minor": 0,
  "metadata": {
    "colab": {
      "cell_execution_strategy": "setup",
      "provenance": []
    },
    "kernelspec": {
      "name": "python3",
      "display_name": "Python 3"
    },
    "language_info": {
      "name": "python"
    }
  },
  "cells": [
    {
      "cell_type": "code",
      "source": [
        "from datetime import datetime\n",
        "\n",
        "print('Hello')\n",
        "print(f'Current time: {datetime.now()}')\n"
      ],
      "metadata": {
        "colab": {
          "base_uri": "https://localhost:8080/"
        },
        "id": "TgYWyW-g6s2C",
        "executionInfo": {
          "status": "ok",
          "timestamp": 1728521820837,
          "user_tz": 300,
          "elapsed": 251,
          "user": {
            "displayName": "",
            "userId": ""
          }
        },
        "outputId": "6944f52d-c04b-4810-90d2-5d8b8e4177a5"
      },
      "execution_count": 2,
      "outputs": [
        {
          "output_type": "stream",
          "name": "stdout",
          "text": [
            "Hello\n",
            "Current time: 2024-10-10 00:57:00.612311\n"
          ]
        }
      ]
    }
  ]
}